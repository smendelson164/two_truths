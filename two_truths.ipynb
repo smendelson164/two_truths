{
 "cells": [
  {
   "cell_type": "code",
   "execution_count": 1,
   "id": "ade21aa8-dd64-4074-84e7-a24523cfe2f7",
   "metadata": {},
   "outputs": [],
   "source": [
    "import numpy as np\n",
    "import GraphV2 as gr\n",
    "from scipy import sparse\n",
    "import random\n",
    "from sklearn.mixture import GaussianMixture\n",
    "import matplotlib.pyplot as plt\n",
    "from sklearn.cluster import KMeans"
   ]
  },
  {
   "cell_type": "code",
   "execution_count": 2,
   "id": "fb08e98b-98b7-4e6f-a389-0cf1db2a6b67",
   "metadata": {},
   "outputs": [],
   "source": [
    "P = np.array([[.020,.044,.002,.009],\n",
    "              [.044,.115,.010,.042],\n",
    "              [.002,.010,.020,.045],\n",
    "              [.009,.042,.045,.117]])\n",
    "pi = np.array([.28,.22,.28,.22])\n",
    "n = 4000\n",
    "N = np.array(n*pi,dtype='int')"
   ]
  },
  {
   "cell_type": "code",
   "execution_count": 3,
   "id": "b3564bc5-468c-40bc-8ee5-79edfc389559",
   "metadata": {},
   "outputs": [],
   "source": [
    "A,L = gr.SBM(P,N)"
   ]
  },
  {
   "cell_type": "code",
   "execution_count": 4,
   "id": "3dfa3517-b90b-4877-98c6-f3fd04713ca7",
   "metadata": {},
   "outputs": [],
   "source": [
    "k = 300\n",
    "lA,VA = sparse.linalg.eigsh(A.astype(dtype=float),k=k)\n",
    "VA = np.sign(VA[0])*VA"
   ]
  },
  {
   "cell_type": "code",
   "execution_count": 6,
   "id": "564c1f61-f994-4af5-b09f-bb68e8044a6b",
   "metadata": {},
   "outputs": [],
   "source": [
    "A_model = GaussianMixture(n_components=2).fit(np.sqrt(np.abs(lA))*VA)\n",
    "A_prediction = A_model.predict(np.sqrt(np.abs(lA))*VA)"
   ]
  },
  {
   "cell_type": "code",
   "execution_count": 7,
   "id": "9cfc4e22-5418-4456-9694-71549175b1f4",
   "metadata": {},
   "outputs": [],
   "source": [
    "lL,VL = sparse.linalg.eigsh(L,k=k)"
   ]
  },
  {
   "cell_type": "code",
   "execution_count": 9,
   "id": "41d73256-9139-4d66-a193-bf8b440258dd",
   "metadata": {},
   "outputs": [],
   "source": [
    "L_model = GaussianMixture(n_components=2).fit(np.sqrt(np.abs(lL))*VL)\n",
    "L_prediction = L_model.predict(np.sqrt(np.abs(lL))*VL)"
   ]
  },
  {
   "cell_type": "code",
   "execution_count": null,
   "id": "648a49ff-c61b-4e0d-b372-b4360c8d75d0",
   "metadata": {},
   "outputs": [],
   "source": []
  }
 ],
 "metadata": {
  "kernelspec": {
   "display_name": "Python 3 (ipykernel)",
   "language": "python",
   "name": "python3"
  },
  "language_info": {
   "codemirror_mode": {
    "name": "ipython",
    "version": 3
   },
   "file_extension": ".py",
   "mimetype": "text/x-python",
   "name": "python",
   "nbconvert_exporter": "python",
   "pygments_lexer": "ipython3",
   "version": "3.12.3"
  }
 },
 "nbformat": 4,
 "nbformat_minor": 5
}
